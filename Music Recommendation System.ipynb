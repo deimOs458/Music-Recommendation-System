{
 "cells": [
  {
   "cell_type": "code",
   "execution_count": 1,
   "id": "a7d7b59b",
   "metadata": {},
   "outputs": [],
   "source": [
    "import pandas as pd"
   ]
  },
  {
   "cell_type": "code",
   "execution_count": 2,
   "id": "cd0eb004",
   "metadata": {},
   "outputs": [],
   "source": [
    "df=pd.read_csv(\"C:\\\\Users\\\\JIT SAHA\\\\OneDrive\\\\Desktop\\\\Music Recommender System\\\\spotify_millsongdata.csv\")"
   ]
  },
  {
   "cell_type": "code",
   "execution_count": 3,
   "id": "804ff29e",
   "metadata": {},
   "outputs": [
    {
     "data": {
      "text/html": [
       "<div>\n",
       "<style scoped>\n",
       "    .dataframe tbody tr th:only-of-type {\n",
       "        vertical-align: middle;\n",
       "    }\n",
       "\n",
       "    .dataframe tbody tr th {\n",
       "        vertical-align: top;\n",
       "    }\n",
       "\n",
       "    .dataframe thead th {\n",
       "        text-align: right;\n",
       "    }\n",
       "</style>\n",
       "<table border=\"1\" class=\"dataframe\">\n",
       "  <thead>\n",
       "    <tr style=\"text-align: right;\">\n",
       "      <th></th>\n",
       "      <th>artist</th>\n",
       "      <th>song</th>\n",
       "      <th>link</th>\n",
       "      <th>text</th>\n",
       "    </tr>\n",
       "  </thead>\n",
       "  <tbody>\n",
       "    <tr>\n",
       "      <th>0</th>\n",
       "      <td>ABBA</td>\n",
       "      <td>Ahe's My Kind Of Girl</td>\n",
       "      <td>/a/abba/ahes+my+kind+of+girl_20598417.html</td>\n",
       "      <td>Look at her face, it's a wonderful face  \\r\\nA...</td>\n",
       "    </tr>\n",
       "    <tr>\n",
       "      <th>1</th>\n",
       "      <td>ABBA</td>\n",
       "      <td>Andante, Andante</td>\n",
       "      <td>/a/abba/andante+andante_20002708.html</td>\n",
       "      <td>Take it easy with me, please  \\r\\nTouch me gen...</td>\n",
       "    </tr>\n",
       "    <tr>\n",
       "      <th>2</th>\n",
       "      <td>ABBA</td>\n",
       "      <td>As Good As New</td>\n",
       "      <td>/a/abba/as+good+as+new_20003033.html</td>\n",
       "      <td>I'll never know why I had to go  \\r\\nWhy I had...</td>\n",
       "    </tr>\n",
       "    <tr>\n",
       "      <th>3</th>\n",
       "      <td>ABBA</td>\n",
       "      <td>Bang</td>\n",
       "      <td>/a/abba/bang_20598415.html</td>\n",
       "      <td>Making somebody happy is a question of give an...</td>\n",
       "    </tr>\n",
       "    <tr>\n",
       "      <th>4</th>\n",
       "      <td>ABBA</td>\n",
       "      <td>Bang-A-Boomerang</td>\n",
       "      <td>/a/abba/bang+a+boomerang_20002668.html</td>\n",
       "      <td>Making somebody happy is a question of give an...</td>\n",
       "    </tr>\n",
       "  </tbody>\n",
       "</table>\n",
       "</div>"
      ],
      "text/plain": [
       "  artist                   song                                        link  \\\n",
       "0   ABBA  Ahe's My Kind Of Girl  /a/abba/ahes+my+kind+of+girl_20598417.html   \n",
       "1   ABBA       Andante, Andante       /a/abba/andante+andante_20002708.html   \n",
       "2   ABBA         As Good As New        /a/abba/as+good+as+new_20003033.html   \n",
       "3   ABBA                   Bang                  /a/abba/bang_20598415.html   \n",
       "4   ABBA       Bang-A-Boomerang      /a/abba/bang+a+boomerang_20002668.html   \n",
       "\n",
       "                                                text  \n",
       "0  Look at her face, it's a wonderful face  \\r\\nA...  \n",
       "1  Take it easy with me, please  \\r\\nTouch me gen...  \n",
       "2  I'll never know why I had to go  \\r\\nWhy I had...  \n",
       "3  Making somebody happy is a question of give an...  \n",
       "4  Making somebody happy is a question of give an...  "
      ]
     },
     "execution_count": 3,
     "metadata": {},
     "output_type": "execute_result"
    }
   ],
   "source": [
    "df.head(5)"
   ]
  },
  {
   "cell_type": "code",
   "execution_count": 4,
   "id": "38561ed3",
   "metadata": {},
   "outputs": [
    {
     "data": {
      "text/plain": [
       "(57650, 4)"
      ]
     },
     "execution_count": 4,
     "metadata": {},
     "output_type": "execute_result"
    }
   ],
   "source": [
    "df.shape"
   ]
  },
  {
   "cell_type": "code",
   "execution_count": 5,
   "id": "efb1f71e",
   "metadata": {},
   "outputs": [
    {
     "data": {
      "text/html": [
       "<div>\n",
       "<style scoped>\n",
       "    .dataframe tbody tr th:only-of-type {\n",
       "        vertical-align: middle;\n",
       "    }\n",
       "\n",
       "    .dataframe tbody tr th {\n",
       "        vertical-align: top;\n",
       "    }\n",
       "\n",
       "    .dataframe thead th {\n",
       "        text-align: right;\n",
       "    }\n",
       "</style>\n",
       "<table border=\"1\" class=\"dataframe\">\n",
       "  <thead>\n",
       "    <tr style=\"text-align: right;\">\n",
       "      <th></th>\n",
       "      <th>artist</th>\n",
       "      <th>song</th>\n",
       "      <th>link</th>\n",
       "      <th>text</th>\n",
       "    </tr>\n",
       "  </thead>\n",
       "  <tbody>\n",
       "    <tr>\n",
       "      <th>57645</th>\n",
       "      <td>Ziggy Marley</td>\n",
       "      <td>Good Old Days</td>\n",
       "      <td>/z/ziggy+marley/good+old+days_10198588.html</td>\n",
       "      <td>Irie days come on play  \\r\\nLet the angels fly...</td>\n",
       "    </tr>\n",
       "    <tr>\n",
       "      <th>57646</th>\n",
       "      <td>Ziggy Marley</td>\n",
       "      <td>Hand To Mouth</td>\n",
       "      <td>/z/ziggy+marley/hand+to+mouth_20531167.html</td>\n",
       "      <td>Power to the workers  \\r\\nMore power  \\r\\nPowe...</td>\n",
       "    </tr>\n",
       "    <tr>\n",
       "      <th>57647</th>\n",
       "      <td>Zwan</td>\n",
       "      <td>Come With Me</td>\n",
       "      <td>/z/zwan/come+with+me_20148981.html</td>\n",
       "      <td>all you need  \\r\\nis something i'll believe  \\...</td>\n",
       "    </tr>\n",
       "    <tr>\n",
       "      <th>57648</th>\n",
       "      <td>Zwan</td>\n",
       "      <td>Desire</td>\n",
       "      <td>/z/zwan/desire_20148986.html</td>\n",
       "      <td>northern star  \\r\\nam i frightened  \\r\\nwhere ...</td>\n",
       "    </tr>\n",
       "    <tr>\n",
       "      <th>57649</th>\n",
       "      <td>Zwan</td>\n",
       "      <td>Heartsong</td>\n",
       "      <td>/z/zwan/heartsong_20148991.html</td>\n",
       "      <td>come in  \\r\\nmake yourself at home  \\r\\ni'm a ...</td>\n",
       "    </tr>\n",
       "  </tbody>\n",
       "</table>\n",
       "</div>"
      ],
      "text/plain": [
       "             artist           song  \\\n",
       "57645  Ziggy Marley  Good Old Days   \n",
       "57646  Ziggy Marley  Hand To Mouth   \n",
       "57647          Zwan   Come With Me   \n",
       "57648          Zwan         Desire   \n",
       "57649          Zwan      Heartsong   \n",
       "\n",
       "                                              link  \\\n",
       "57645  /z/ziggy+marley/good+old+days_10198588.html   \n",
       "57646  /z/ziggy+marley/hand+to+mouth_20531167.html   \n",
       "57647           /z/zwan/come+with+me_20148981.html   \n",
       "57648                 /z/zwan/desire_20148986.html   \n",
       "57649              /z/zwan/heartsong_20148991.html   \n",
       "\n",
       "                                                    text  \n",
       "57645  Irie days come on play  \\r\\nLet the angels fly...  \n",
       "57646  Power to the workers  \\r\\nMore power  \\r\\nPowe...  \n",
       "57647  all you need  \\r\\nis something i'll believe  \\...  \n",
       "57648  northern star  \\r\\nam i frightened  \\r\\nwhere ...  \n",
       "57649  come in  \\r\\nmake yourself at home  \\r\\ni'm a ...  "
      ]
     },
     "execution_count": 5,
     "metadata": {},
     "output_type": "execute_result"
    }
   ],
   "source": [
    "df.tail(5)"
   ]
  },
  {
   "cell_type": "code",
   "execution_count": 6,
   "id": "2fbeeeec",
   "metadata": {},
   "outputs": [
    {
     "data": {
      "text/plain": [
       "artist    0\n",
       "song      0\n",
       "link      0\n",
       "text      0\n",
       "dtype: int64"
      ]
     },
     "execution_count": 6,
     "metadata": {},
     "output_type": "execute_result"
    }
   ],
   "source": [
    "df.isnull().sum()"
   ]
  },
  {
   "cell_type": "code",
   "execution_count": 7,
   "id": "21321a87",
   "metadata": {},
   "outputs": [],
   "source": [
    "df =df.sample(5000).drop('link', axis=1).reset_index(drop=True)"
   ]
  },
  {
   "cell_type": "code",
   "execution_count": 8,
   "id": "a2ef8f9c",
   "metadata": {},
   "outputs": [
    {
     "data": {
      "text/html": [
       "<div>\n",
       "<style scoped>\n",
       "    .dataframe tbody tr th:only-of-type {\n",
       "        vertical-align: middle;\n",
       "    }\n",
       "\n",
       "    .dataframe tbody tr th {\n",
       "        vertical-align: top;\n",
       "    }\n",
       "\n",
       "    .dataframe thead th {\n",
       "        text-align: right;\n",
       "    }\n",
       "</style>\n",
       "<table border=\"1\" class=\"dataframe\">\n",
       "  <thead>\n",
       "    <tr style=\"text-align: right;\">\n",
       "      <th></th>\n",
       "      <th>artist</th>\n",
       "      <th>song</th>\n",
       "      <th>text</th>\n",
       "    </tr>\n",
       "  </thead>\n",
       "  <tbody>\n",
       "    <tr>\n",
       "      <th>0</th>\n",
       "      <td>Carly Simon</td>\n",
       "      <td>Boys In The Trees</td>\n",
       "      <td>I'm home again in my old narrow bed  \\r\\nWhere...</td>\n",
       "    </tr>\n",
       "    <tr>\n",
       "      <th>1</th>\n",
       "      <td>Kenny Loggins</td>\n",
       "      <td>I Like It Like That</td>\n",
       "      <td>Come on (come on let me show you where it's at...</td>\n",
       "    </tr>\n",
       "    <tr>\n",
       "      <th>2</th>\n",
       "      <td>Oasis</td>\n",
       "      <td>Rock 'n' Roll Star</td>\n",
       "      <td>I live my life in the city  \\r\\nThere's no eas...</td>\n",
       "    </tr>\n",
       "    <tr>\n",
       "      <th>3</th>\n",
       "      <td>Natalie Cole</td>\n",
       "      <td>Split Decision</td>\n",
       "      <td>Who's gonna take the blame tomorrow  \\r\\nIf we...</td>\n",
       "    </tr>\n",
       "    <tr>\n",
       "      <th>4</th>\n",
       "      <td>Barbra Streisand</td>\n",
       "      <td>Closer</td>\n",
       "      <td>As close as the sea is to the seashore  \\r\\nTi...</td>\n",
       "    </tr>\n",
       "    <tr>\n",
       "      <th>...</th>\n",
       "      <td>...</td>\n",
       "      <td>...</td>\n",
       "      <td>...</td>\n",
       "    </tr>\n",
       "    <tr>\n",
       "      <th>4995</th>\n",
       "      <td>Kinks</td>\n",
       "      <td>Noise</td>\n",
       "      <td>Dad's stuck in the factory, machines are bangi...</td>\n",
       "    </tr>\n",
       "    <tr>\n",
       "      <th>4996</th>\n",
       "      <td>Thin Lizzy</td>\n",
       "      <td>Diddy Levine</td>\n",
       "      <td>In the later forties  \\r\\nWhen Diddy Levine li...</td>\n",
       "    </tr>\n",
       "    <tr>\n",
       "      <th>4997</th>\n",
       "      <td>Gino Vannelli</td>\n",
       "      <td>Fallen In Love</td>\n",
       "      <td>Pardon me  \\r\\nWhat a rare mood I'm in  \\r\\nCh...</td>\n",
       "    </tr>\n",
       "    <tr>\n",
       "      <th>4998</th>\n",
       "      <td>Neil Sedaka</td>\n",
       "      <td>Ebony Angel</td>\n",
       "      <td>I've told you that we're getting married,  \\r\\...</td>\n",
       "    </tr>\n",
       "    <tr>\n",
       "      <th>4999</th>\n",
       "      <td>The Temptations</td>\n",
       "      <td>I Truly, Truly Believe</td>\n",
       "      <td>I'm sending you red roses and violets.  \\r\\n(V...</td>\n",
       "    </tr>\n",
       "  </tbody>\n",
       "</table>\n",
       "<p>5000 rows × 3 columns</p>\n",
       "</div>"
      ],
      "text/plain": [
       "                artist                    song  \\\n",
       "0          Carly Simon       Boys In The Trees   \n",
       "1        Kenny Loggins     I Like It Like That   \n",
       "2                Oasis      Rock 'n' Roll Star   \n",
       "3         Natalie Cole          Split Decision   \n",
       "4     Barbra Streisand                  Closer   \n",
       "...                ...                     ...   \n",
       "4995             Kinks                   Noise   \n",
       "4996        Thin Lizzy            Diddy Levine   \n",
       "4997     Gino Vannelli          Fallen In Love   \n",
       "4998       Neil Sedaka             Ebony Angel   \n",
       "4999   The Temptations  I Truly, Truly Believe   \n",
       "\n",
       "                                                   text  \n",
       "0     I'm home again in my old narrow bed  \\r\\nWhere...  \n",
       "1     Come on (come on let me show you where it's at...  \n",
       "2     I live my life in the city  \\r\\nThere's no eas...  \n",
       "3     Who's gonna take the blame tomorrow  \\r\\nIf we...  \n",
       "4     As close as the sea is to the seashore  \\r\\nTi...  \n",
       "...                                                 ...  \n",
       "4995  Dad's stuck in the factory, machines are bangi...  \n",
       "4996  In the later forties  \\r\\nWhen Diddy Levine li...  \n",
       "4997  Pardon me  \\r\\nWhat a rare mood I'm in  \\r\\nCh...  \n",
       "4998  I've told you that we're getting married,  \\r\\...  \n",
       "4999  I'm sending you red roses and violets.  \\r\\n(V...  \n",
       "\n",
       "[5000 rows x 3 columns]"
      ]
     },
     "execution_count": 8,
     "metadata": {},
     "output_type": "execute_result"
    }
   ],
   "source": [
    "df"
   ]
  },
  {
   "cell_type": "code",
   "execution_count": 10,
   "id": "9fb4f5f7",
   "metadata": {},
   "outputs": [
    {
     "data": {
      "text/plain": [
       "'I\\'m sending you red roses and violets.  \\r\\n(Violets of...) blue, girl.  \\r\\nThe roses mean I love you.  \\r\\nThe violets mean I\\'ll always be true, girl. (Be true, girl)  \\r\\n  \\r\\nBecause I really love you.  \\r\\nAnd I truly, truly believe, yes I do.  \\r\\nin spite of the way you acting, that you love me too.  \\r\\nCome on and say it dear.  \\r\\n  \\r\\nHmm, you try, to keep me away, girl.  \\r\\nJust to prove you don\\'t really care.  \\r\\nBut I believe you feel the same way I do.  \\r\\nAnd this torture just ain\\'t fair. (No, this torture just ain\\'t fair)  \\r\\n  \\r\\nI\\'m sending you a bracelet.  \\r\\nIn grave in gold that, \"I love you\" girl. (Love you, girl)  \\r\\nAnd I\\'ll send my heart if I could, to prove I\\'ll always be true, girl.  \\r\\n  \\r\\nBecause I really love you.  \\r\\nAnd I truly, truly believe, yes I do.  \\r\\nin spite of the way you acting, that you love me too.  \\r\\nCome on and say it dear.  \\r\\nOh, say it dear.  \\r\\n  \\r\\nI hope you\\'d understand.  \\r\\nThat the red roses and violets of blue, girl, (Hope you\\'d understand)  \\r\\nAnd that bright shining bracelet, help me, baby, say \\'I love you\\'. (I love\\r\\nyou. Love you)  \\r\\n  \\r\\nAnd I really love you.  \\r\\nAnd I truly, truly believe, yes I do. (Yes, I do)  \\r\\nI believe that you love me.  \\r\\nSo baby, come on and say it.  \\r\\n  \\r\\nA-Say it. (I truly believe, yes I do, yes I do, yes I do)  \\r\\nI truly, truly believe. (I truly believe, yes I do, yes I do, yes I do)  \\r\\n(I truly believe, yes I do, yes I do, yes I do)\\r\\n\\r\\n'"
      ]
     },
     "execution_count": 10,
     "metadata": {},
     "output_type": "execute_result"
    }
   ],
   "source": [
    "df['text'][4999]"
   ]
  },
  {
   "cell_type": "code",
   "execution_count": 11,
   "id": "d25e3254",
   "metadata": {},
   "outputs": [
    {
     "data": {
      "text/plain": [
       "(5000, 3)"
      ]
     },
     "execution_count": 11,
     "metadata": {},
     "output_type": "execute_result"
    }
   ],
   "source": [
    "df.shape"
   ]
  },
  {
   "cell_type": "markdown",
   "id": "5ce99ebf",
   "metadata": {},
   "source": [
    "Text Cleaning/Text Preprocessing"
   ]
  },
  {
   "cell_type": "code",
   "execution_count": 12,
   "id": "5baab64d",
   "metadata": {},
   "outputs": [],
   "source": [
    "df['text']=df['text'].str.lower().replace(r'^\\w\\s','').replace(r'\\n','',regex=True)"
   ]
  },
  {
   "cell_type": "code",
   "execution_count": 13,
   "id": "063daba1",
   "metadata": {},
   "outputs": [
    {
     "data": {
      "text/html": [
       "<div>\n",
       "<style scoped>\n",
       "    .dataframe tbody tr th:only-of-type {\n",
       "        vertical-align: middle;\n",
       "    }\n",
       "\n",
       "    .dataframe tbody tr th {\n",
       "        vertical-align: top;\n",
       "    }\n",
       "\n",
       "    .dataframe thead th {\n",
       "        text-align: right;\n",
       "    }\n",
       "</style>\n",
       "<table border=\"1\" class=\"dataframe\">\n",
       "  <thead>\n",
       "    <tr style=\"text-align: right;\">\n",
       "      <th></th>\n",
       "      <th>artist</th>\n",
       "      <th>song</th>\n",
       "      <th>text</th>\n",
       "    </tr>\n",
       "  </thead>\n",
       "  <tbody>\n",
       "    <tr>\n",
       "      <th>4995</th>\n",
       "      <td>Kinks</td>\n",
       "      <td>Noise</td>\n",
       "      <td>dad's stuck in the factory, machines are bangi...</td>\n",
       "    </tr>\n",
       "    <tr>\n",
       "      <th>4996</th>\n",
       "      <td>Thin Lizzy</td>\n",
       "      <td>Diddy Levine</td>\n",
       "      <td>in the later forties  \\rwhen diddy levine live...</td>\n",
       "    </tr>\n",
       "    <tr>\n",
       "      <th>4997</th>\n",
       "      <td>Gino Vannelli</td>\n",
       "      <td>Fallen In Love</td>\n",
       "      <td>pardon me  \\rwhat a rare mood i'm in  \\rcheck ...</td>\n",
       "    </tr>\n",
       "    <tr>\n",
       "      <th>4998</th>\n",
       "      <td>Neil Sedaka</td>\n",
       "      <td>Ebony Angel</td>\n",
       "      <td>i've told you that we're getting married,  \\rn...</td>\n",
       "    </tr>\n",
       "    <tr>\n",
       "      <th>4999</th>\n",
       "      <td>The Temptations</td>\n",
       "      <td>I Truly, Truly Believe</td>\n",
       "      <td>i'm sending you red roses and violets.  \\r(vio...</td>\n",
       "    </tr>\n",
       "  </tbody>\n",
       "</table>\n",
       "</div>"
      ],
      "text/plain": [
       "               artist                    song  \\\n",
       "4995            Kinks                   Noise   \n",
       "4996       Thin Lizzy            Diddy Levine   \n",
       "4997    Gino Vannelli          Fallen In Love   \n",
       "4998      Neil Sedaka             Ebony Angel   \n",
       "4999  The Temptations  I Truly, Truly Believe   \n",
       "\n",
       "                                                   text  \n",
       "4995  dad's stuck in the factory, machines are bangi...  \n",
       "4996  in the later forties  \\rwhen diddy levine live...  \n",
       "4997  pardon me  \\rwhat a rare mood i'm in  \\rcheck ...  \n",
       "4998  i've told you that we're getting married,  \\rn...  \n",
       "4999  i'm sending you red roses and violets.  \\r(vio...  "
      ]
     },
     "execution_count": 13,
     "metadata": {},
     "output_type": "execute_result"
    }
   ],
   "source": [
    "df.tail(5)"
   ]
  },
  {
   "cell_type": "code",
   "execution_count": 14,
   "id": "2ca288eb",
   "metadata": {},
   "outputs": [],
   "source": [
    "import nltk\n",
    "from nltk.stem.porter import PorterStemmer\n",
    "\n",
    "stemmer = PorterStemmer()\n",
    "\n",
    "def tokenization(txt):\n",
    "    tokens = nltk.word_tokenize(txt)\n",
    "    stemming = [stemmer.stem(w) for w in tokens]\n",
    "    return \" \".join(stemming)\n",
    "\n",
    "df['text'] = df['text'].apply(lambda x: tokenization(x))"
   ]
  },
  {
   "cell_type": "code",
   "execution_count": 15,
   "id": "3412a1e1",
   "metadata": {},
   "outputs": [],
   "source": [
    "from sklearn.feature_extraction.text import TfidfVectorizer\n",
    "from sklearn.metrics.pairwise import cosine_similarity"
   ]
  },
  {
   "cell_type": "code",
   "execution_count": 16,
   "id": "41e59151",
   "metadata": {},
   "outputs": [],
   "source": [
    "tfidvector = TfidfVectorizer(analyzer='word',stop_words='english')\n",
    "matrix = tfidvector.fit_transform(df['text'])\n",
    "similarity = cosine_similarity(matrix)"
   ]
  },
  {
   "cell_type": "code",
   "execution_count": 17,
   "id": "58c75028",
   "metadata": {},
   "outputs": [
    {
     "data": {
      "text/plain": [
       "5000"
      ]
     },
     "execution_count": 17,
     "metadata": {},
     "output_type": "execute_result"
    }
   ],
   "source": [
    "similarity[0]\n",
    "len(similarity[0])"
   ]
  },
  {
   "cell_type": "code",
   "execution_count": 19,
   "id": "d73be4a2",
   "metadata": {},
   "outputs": [
    {
     "data": {
      "text/plain": [
       "4997"
      ]
     },
     "execution_count": 19,
     "metadata": {},
     "output_type": "execute_result"
    }
   ],
   "source": [
    "df[df['song'] == 'Fallen In Love'].index[0]"
   ]
  },
  {
   "cell_type": "markdown",
   "id": "22089839",
   "metadata": {},
   "source": [
    "Recommender Function\n"
   ]
  },
  {
   "cell_type": "code",
   "execution_count": 20,
   "id": "f66fc307",
   "metadata": {},
   "outputs": [],
   "source": [
    "def recommendation(song_df):\n",
    "    idx = df[df['song'] == song_df].index[0]\n",
    "    distances = sorted(list(enumerate(similarity[idx])),reverse=True,key=lambda x:x[1])\n",
    "    \n",
    "    songs = []\n",
    "    for m_id in distances[1:21]:\n",
    "        songs.append(df.iloc[m_id[0]].song)\n",
    "        \n",
    "    return songs\n"
   ]
  },
  {
   "cell_type": "code",
   "execution_count": 22,
   "id": "6094a742",
   "metadata": {},
   "outputs": [
    {
     "data": {
      "text/plain": [
       "['Noise Is The Best Revenge',\n",
       " \"Something's Gotta Give\",\n",
       " 'Big Noise Transmission',\n",
       " 'Clowns Of Death',\n",
       " 'Heavy Love',\n",
       " 'Ooh Poo Pah Doo',\n",
       " 'Angel From The Coast',\n",
       " 'Southern Voice',\n",
       " 'Sleep By Windows',\n",
       " 'That Voice Again',\n",
       " 'Is This Freedom',\n",
       " 'A Thousand Words',\n",
       " 'Do You Hear What I Hear',\n",
       " 'Get Off Of My Cloud',\n",
       " 'Everywhere I Go',\n",
       " 'Close My Eyes',\n",
       " \"I Don't Want To Hear It Anymore\",\n",
       " 'Kill City',\n",
       " 'Something Following Me',\n",
       " 'Jigsaw Falling Into Place']"
      ]
     },
     "execution_count": 22,
     "metadata": {},
     "output_type": "execute_result"
    }
   ],
   "source": [
    "recommendation('Noise')"
   ]
  },
  {
   "cell_type": "code",
   "execution_count": 24,
   "id": "f8aadc30",
   "metadata": {},
   "outputs": [
    {
     "name": "stdout",
     "output_type": "stream",
     "text": [
      "{'Song': 'Noise Is The Best Revenge', 'Distance': 0.5835527792576893, 'Data': artist                                            Morrissey\n",
      "song                              Noise Is The Best Revenge\n",
      "text      hey kid , take my hand if onli for awhil and t...\n",
      "Name: 3376, dtype: object}\n",
      "{'Song': \"Something's Gotta Give\", 'Distance': 0.4517397589549072, 'Data': artist                                            Aerosmith\n",
      "song                                 Something's Gotta Give\n",
      "text      cyberot head explod inform overload and i just...\n",
      "Name: 4632, dtype: object}\n",
      "{'Song': 'Big Noise Transmission', 'Distance': 0.3481867777587368, 'Data': artist                                           Gary Numan\n",
      "song                                 Big Noise Transmission\n",
      "text      did i ever tell you what happen befor ? i wa w...\n",
      "Name: 501, dtype: object}\n",
      "{'Song': 'Clowns Of Death', 'Distance': 0.22618182638592524, 'Data': artist                                         Oingo Boingo\n",
      "song                                        Clowns Of Death\n",
      "text      i 'm the one who prey upon the weakest and the...\n",
      "Name: 2471, dtype: object}\n",
      "{'Song': 'Heavy Love', 'Distance': 0.22383460320735013, 'Data': artist                                           Neil Young\n",
      "song                                             Heavy Love\n",
      "text      i may not mystifi you in your search for highe...\n",
      "Name: 1076, dtype: object}\n",
      "{'Song': 'Ooh Poo Pah Doo', 'Distance': 0.18538034540288956, 'Data': artist                                          Tina Turner\n",
      "song                                        Ooh Poo Pah Doo\n",
      "text      i wan na tell you bout ooh poo pah doo babi ca...\n",
      "Name: 3734, dtype: object}\n",
      "{'Song': 'Angel From The Coast', 'Distance': 0.15991317720951315, 'Data': artist                                           Thin Lizzy\n",
      "song                                   Angel From The Coast\n",
      "text      the sacr heart is bleed go tell the holi ghost...\n",
      "Name: 3358, dtype: object}\n",
      "{'Song': 'Southern Voice', 'Distance': 0.158202656883652, 'Data': artist                                           Tim McGraw\n",
      "song                                         Southern Voice\n",
      "text      hank william sang it number three drove it chu...\n",
      "Name: 1181, dtype: object}\n",
      "{'Song': 'Sleep By Windows', 'Distance': 0.15230710772591546, 'Data': artist                                           Gary Numan\n",
      "song                                       Sleep By Windows\n",
      "text      you can cri by my window you can crawl on the ...\n",
      "Name: 4088, dtype: object}\n",
      "{'Song': 'That Voice Again', 'Distance': 0.13450953773429644, 'Data': artist                                        Peter Gabriel\n",
      "song                                       That Voice Again\n",
      "text      i want to be with you i want to be clear but e...\n",
      "Name: 2470, dtype: object}\n",
      "{'Song': 'Is This Freedom', 'Distance': 0.13126413113456697, 'Data': artist                                           Lucky Dube\n",
      "song                                        Is This Freedom\n",
      "text      she got outsid one morn to see what ' s go on ...\n",
      "Name: 2156, dtype: object}\n",
      "{'Song': 'A Thousand Words', 'Distance': 0.128132188890428, 'Data': artist                                        Savage Garden\n",
      "song                                       A Thousand Words\n",
      "text      we stumbl in a tangl web decay friendship almo...\n",
      "Name: 881, dtype: object}\n",
      "{'Song': 'Do You Hear What I Hear', 'Distance': 0.12115338195592386, 'Data': artist                                        Andy Williams\n",
      "song                                Do You Hear What I Hear\n",
      "text      said the nightwind to the littl lamb do you se...\n",
      "Name: 1322, dtype: object}\n",
      "{'Song': 'Get Off Of My Cloud', 'Distance': 0.120103977463446, 'Data': artist                                       Rolling Stones\n",
      "song                                    Get Off Of My Cloud\n",
      "text      i live in an apart on the ninety-ninth floor -...\n",
      "Name: 613, dtype: object}\n",
      "{'Song': 'Everywhere I Go', 'Distance': 0.11867917783809878, 'Data': artist                                       Jackson Browne\n",
      "song                                        Everywhere I Go\n",
      "text      i hear your heart beat everywher when we 're a...\n",
      "Name: 4846, dtype: object}\n",
      "{'Song': 'Close My Eyes', 'Distance': 0.11629627787561417, 'Data': artist                                      Backstreet Boys\n",
      "song                                          Close My Eyes\n",
      "text      my feet on the ground but i ca n't run drown t...\n",
      "Name: 2578, dtype: object}\n",
      "{'Song': \"I Don't Want To Hear It Anymore\", 'Distance': 0.11470201782985254, 'Data': artist                                    Dusty Springfield\n",
      "song                        I Don't Want To Hear It Anymore\n",
      "text      in my neighborhood we do n't live so good the ...\n",
      "Name: 4239, dtype: object}\n",
      "{'Song': 'Kill City', 'Distance': 0.11467444824540343, 'Data': artist                                             Iggy Pop\n",
      "song                                              Kill City\n",
      "text      well i live here in kill citi where the d -- ?...\n",
      "Name: 4157, dtype: object}\n",
      "{'Song': 'Something Following Me', 'Distance': 0.11423202675686492, 'Data': artist                                         Procol Harum\n",
      "song                                 Something Following Me\n",
      "text      while stand at the junction on 42nd street i i...\n",
      "Name: 2475, dtype: object}\n",
      "{'Song': 'Jigsaw Falling Into Place', 'Distance': 0.11181083887705903, 'Data': artist                                            Radiohead\n",
      "song                              Jigsaw Falling Into Place\n",
      "text      just as you take my hand just as you write my ...\n",
      "Name: 4562, dtype: object}\n"
     ]
    }
   ],
   "source": [
    "def recommendation(song_df):\n",
    "    idx = df[df['song'] == song_df].index[0]\n",
    "    distances = sorted(list(enumerate(similarity[idx])), reverse=True, key=lambda x: x[1])\n",
    "    \n",
    "    recommendations = []\n",
    "    for m_id, distance in distances[1:21]:\n",
    "        song_name = df.iloc[m_id].song\n",
    "        song_data = df.iloc[m_id]\n",
    "        recommendations.append({'Song': song_name, 'Distance': distance, 'Data': song_data})\n",
    "        \n",
    "    return recommendations\n",
    "\n",
    "# Now, call the function with an example song_df\n",
    "recommended_songs = recommendation(\"Noise\")\n",
    "\n",
    "# Print the recommendations\n",
    "for song in recommended_songs:\n",
    "    print(song)\n"
   ]
  },
  {
   "cell_type": "code",
   "execution_count": 25,
   "id": "332f3963",
   "metadata": {},
   "outputs": [],
   "source": [
    "import pickle\n",
    "pickle.dump(similarity,open('similarity.pkl','wb'))\n",
    "pickle.dump(df,open('df.pkl','wb'))"
   ]
  },
  {
   "cell_type": "code",
   "execution_count": null,
   "id": "72408475",
   "metadata": {},
   "outputs": [],
   "source": []
  },
  {
   "cell_type": "code",
   "execution_count": null,
   "id": "7254e7e6",
   "metadata": {},
   "outputs": [],
   "source": []
  }
 ],
 "metadata": {
  "kernelspec": {
   "display_name": "Python 3 (ipykernel)",
   "language": "python",
   "name": "python3"
  },
  "language_info": {
   "codemirror_mode": {
    "name": "ipython",
    "version": 3
   },
   "file_extension": ".py",
   "mimetype": "text/x-python",
   "name": "python",
   "nbconvert_exporter": "python",
   "pygments_lexer": "ipython3",
   "version": "3.11.5"
  }
 },
 "nbformat": 4,
 "nbformat_minor": 5
}
